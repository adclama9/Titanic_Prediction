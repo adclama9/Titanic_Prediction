{
 "cells": [
  {
   "cell_type": "code",
   "execution_count": 1,
   "id": "d799fd15",
   "metadata": {},
   "outputs": [],
   "source": [
    "#imports\n",
    "import pandas as pd \n",
    "import seaborn as sns\n",
    "import matplotlib.pyplot as plt\n",
    "import numpy as np"
   ]
  },
  {
   "cell_type": "markdown",
   "id": "0d31282a",
   "metadata": {},
   "source": [
    "Since we are looking for classification models we will look at these 5:\\\n",
    "Naïve Bayes\\\n",
    "k-Nearest Neighbor\\\n",
    "Decision Trees\\\n",
    "Support Vector Machine\\\n",
    "Neural Networks"
   ]
  },
  {
   "cell_type": "markdown",
   "id": "4991b4ff",
   "metadata": {},
   "source": [
    "First we will Gridsearch for best params for each model for highest score"
   ]
  },
  {
   "cell_type": "code",
   "execution_count": 2,
   "id": "783941e4",
   "metadata": {},
   "outputs": [],
   "source": [
    "train = pd.read_csv('train_cleaned.csv', index_col=0)\n",
    "valid= train.pop('Survived')\n",
    "from sklearn.model_selection import train_test_split\n",
    "x_train, x_test, y_train, y_test = train_test_split(train, valid, test_size=0.3, random_state=0) \n"
   ]
  },
  {
   "cell_type": "code",
   "execution_count": 58,
   "id": "7fe766c2",
   "metadata": {},
   "outputs": [],
   "source": [
    "from sklearn.model_selection import GridSearchCV\n",
    "from sklearn.naive_bayes import GaussianNB\n",
    "from sklearn.tree import DecisionTreeClassifier\n",
    "from sklearn.svm import SVC\n",
    "from sklearn.neural_network import MLPClassifier\n",
    "from sklearn.linear_model import LogisticRegression\n",
    "from sklearn.ensemble import RandomForestClassifier\n",
    "\n",
    "gnb = GaussianNB()\n",
    "n_range = [i for i in range(1,100)]\n",
    "gnb_params= [{'var_smoothing': np.logspace(0,-9, num=100)}]\n",
    "\n",
    "from sklearn.neighbors import KNeighborsClassifier\n",
    "knn = KNeighborsClassifier()\n",
    "knn_params = [{'n_neighbors':list(range(1,40)),\n",
    "               'weights':['uniform','distance'],\n",
    "               'algorithm': ['auto', 'ball_tree', 'kd_tree', 'brute'],\n",
    "               'leaf_size': n_range,\n",
    "               'metric': ['euclidean' , 'manhattan' , 'chebyshev']   \n",
    "              }]\n",
    "\n",
    "dtc = DecisionTreeClassifier()\n",
    "dtc_params = [{\n",
    "               'criterion' : ['gini', 'entropy'], \n",
    "                'splitter' : ['best','random'],\n",
    "               'max_depth': [2,3,4,5,6,7,8,9,10,12]\n",
    "              }]\n",
    "\n",
    "svc= SVC()\n",
    "svc_params = [{'kernel':['linear', 'poly', 'rbf', 'sigmoid'] , 'degree': [1,2,3,4,5,6,7,8,9],\n",
    "              'gamma' : ['scale','auto'], 'shrinking' : [True, False], 'decision_function_shape' :['ovo','ovr']\n",
    "              }]\n",
    "\n",
    "mlp = MLPClassifier()\n",
    "# remove lbfgs solver as its for smaller datasets\n",
    "mlp_params= [{\n",
    "    'activation': ['tanh', 'relu','identity','logistic'],\n",
    "    'solver': ['sgd', 'adam'],\n",
    "    'alpha': [.0001, .0002, .0003, .0004, .00005, .00006,0.001,0.01,0.1, 0.05],\n",
    "    'learning_rate': ['constant','adaptive'],\n",
    "    'max_iter' : [5000],\n",
    "    'hidden_layer_sizes': [\n",
    "             (1,),(2,),(3,),(4,),(5,),(6,),(7,),(8,),(9,),(10,),(11,), (12,),(13,),(14,),(15,),(16,),(17,),(18,),(19,),(20,),(21,)\n",
    "             ],\n",
    "    'random_state': [0]\n",
    "}]\n",
    "\n",
    "lr = LogisticRegression()\n",
    "\n",
    "lr_params = [{'penalty': ['l1', 'l2', 'elasticnet', 'none'], \n",
    "             'solver': ['newton-cg', 'lbfgs', 'liblinear', 'sag', 'saga']}]\n",
    "\n",
    "rf = RandomForestClassifier()\n",
    "rf_params = {\n",
    "    'n_estimators': [100,200,500,750,1000],\n",
    "    'max_depth': [3,5,7,9]\n",
    "}\n",
    "\n"
   ]
  },
  {
   "cell_type": "code",
   "execution_count": 4,
   "id": "bbee05a0",
   "metadata": {},
   "outputs": [
    {
     "data": {
      "text/plain": [
       "dict_keys(['priors', 'var_smoothing'])"
      ]
     },
     "execution_count": 4,
     "metadata": {},
     "output_type": "execute_result"
    }
   ],
   "source": [
    "from sklearn.naive_bayes import GaussianNB\n",
    "\n",
    "gnb = GaussianNB()\n",
    "gnb.get_params().keys()"
   ]
  },
  {
   "cell_type": "code",
   "execution_count": 5,
   "id": "aef078e2",
   "metadata": {},
   "outputs": [
    {
     "data": {
      "text/plain": [
       "dict_keys(['algorithm', 'leaf_size', 'metric', 'metric_params', 'n_jobs', 'n_neighbors', 'p', 'weights'])"
      ]
     },
     "execution_count": 5,
     "metadata": {},
     "output_type": "execute_result"
    }
   ],
   "source": [
    "from sklearn.neighbors import KNeighborsClassifier\n",
    "knn = KNeighborsClassifier()\n",
    "knn.get_params().keys()"
   ]
  },
  {
   "cell_type": "code",
   "execution_count": 6,
   "id": "7377f5d0",
   "metadata": {},
   "outputs": [
    {
     "data": {
      "text/plain": [
       "dict_keys(['ccp_alpha', 'class_weight', 'criterion', 'max_depth', 'max_features', 'max_leaf_nodes', 'min_impurity_decrease', 'min_impurity_split', 'min_samples_leaf', 'min_samples_split', 'min_weight_fraction_leaf', 'random_state', 'splitter'])"
      ]
     },
     "execution_count": 6,
     "metadata": {},
     "output_type": "execute_result"
    }
   ],
   "source": [
    "from sklearn.tree import DecisionTreeClassifier\n",
    "dtc = DecisionTreeClassifier()\n",
    "dtc.get_params().keys()"
   ]
  },
  {
   "cell_type": "code",
   "execution_count": 54,
   "id": "c5bd172e",
   "metadata": {},
   "outputs": [
    {
     "data": {
      "text/plain": [
       "dict_keys(['bootstrap', 'ccp_alpha', 'class_weight', 'criterion', 'max_depth', 'max_features', 'max_leaf_nodes', 'max_samples', 'min_impurity_decrease', 'min_impurity_split', 'min_samples_leaf', 'min_samples_split', 'min_weight_fraction_leaf', 'n_estimators', 'n_jobs', 'oob_score', 'random_state', 'verbose', 'warm_start'])"
      ]
     },
     "execution_count": 54,
     "metadata": {},
     "output_type": "execute_result"
    }
   ],
   "source": [
    "rf.get_params().keys()"
   ]
  },
  {
   "cell_type": "code",
   "execution_count": 59,
   "id": "6b5b7544",
   "metadata": {},
   "outputs": [
    {
     "name": "stderr",
     "output_type": "stream",
     "text": [
      "\r",
      "  0%|                                                                                            | 0/1 [00:00<?, ?it/s]"
     ]
    },
    {
     "name": "stdout",
     "output_type": "stream",
     "text": [
      "Fitting 5 folds for each of 20 candidates, totalling 100 fits\n",
      "[CV] END ......................max_depth=3, n_estimators=100; total time=   0.2s\n",
      "[CV] END ......................max_depth=3, n_estimators=100; total time=   0.0s\n",
      "[CV] END ......................max_depth=3, n_estimators=100; total time=   0.0s\n",
      "[CV] END ......................max_depth=3, n_estimators=100; total time=   0.0s\n",
      "[CV] END ......................max_depth=3, n_estimators=100; total time=   0.0s\n",
      "[CV] END ......................max_depth=3, n_estimators=200; total time=   0.2s\n",
      "[CV] END ......................max_depth=3, n_estimators=200; total time=   0.1s\n",
      "[CV] END ......................max_depth=3, n_estimators=200; total time=   0.2s\n",
      "[CV] END ......................max_depth=3, n_estimators=200; total time=   0.2s\n",
      "[CV] END ......................max_depth=3, n_estimators=200; total time=   0.2s\n",
      "[CV] END ......................max_depth=3, n_estimators=500; total time=   0.5s\n",
      "[CV] END ......................max_depth=3, n_estimators=500; total time=   0.5s\n",
      "[CV] END ......................max_depth=3, n_estimators=500; total time=   0.6s\n",
      "[CV] END ......................max_depth=3, n_estimators=500; total time=   0.5s\n",
      "[CV] END ......................max_depth=3, n_estimators=500; total time=   0.5s\n",
      "[CV] END ......................max_depth=3, n_estimators=750; total time=   0.9s\n",
      "[CV] END ......................max_depth=3, n_estimators=750; total time=   0.8s\n",
      "[CV] END ......................max_depth=3, n_estimators=750; total time=   0.8s\n",
      "[CV] END ......................max_depth=3, n_estimators=750; total time=   0.9s\n",
      "[CV] END ......................max_depth=3, n_estimators=750; total time=   0.8s\n",
      "[CV] END .....................max_depth=3, n_estimators=1000; total time=   1.2s\n",
      "[CV] END .....................max_depth=3, n_estimators=1000; total time=   1.2s\n",
      "[CV] END .....................max_depth=3, n_estimators=1000; total time=   1.1s\n",
      "[CV] END .....................max_depth=3, n_estimators=1000; total time=   1.1s\n",
      "[CV] END .....................max_depth=3, n_estimators=1000; total time=   1.2s\n",
      "[CV] END ......................max_depth=5, n_estimators=100; total time=   0.0s\n",
      "[CV] END ......................max_depth=5, n_estimators=100; total time=   0.0s\n",
      "[CV] END ......................max_depth=5, n_estimators=100; total time=   0.0s\n",
      "[CV] END ......................max_depth=5, n_estimators=100; total time=   0.0s\n",
      "[CV] END ......................max_depth=5, n_estimators=100; total time=   0.1s\n",
      "[CV] END ......................max_depth=5, n_estimators=200; total time=   0.2s\n",
      "[CV] END ......................max_depth=5, n_estimators=200; total time=   0.2s\n",
      "[CV] END ......................max_depth=5, n_estimators=200; total time=   0.2s\n",
      "[CV] END ......................max_depth=5, n_estimators=200; total time=   0.2s\n",
      "[CV] END ......................max_depth=5, n_estimators=200; total time=   0.2s\n",
      "[CV] END ......................max_depth=5, n_estimators=500; total time=   0.6s\n",
      "[CV] END ......................max_depth=5, n_estimators=500; total time=   0.5s\n",
      "[CV] END ......................max_depth=5, n_estimators=500; total time=   0.5s\n",
      "[CV] END ......................max_depth=5, n_estimators=500; total time=   0.6s\n",
      "[CV] END ......................max_depth=5, n_estimators=500; total time=   0.5s\n",
      "[CV] END ......................max_depth=5, n_estimators=750; total time=   0.9s\n",
      "[CV] END ......................max_depth=5, n_estimators=750; total time=   0.9s\n",
      "[CV] END ......................max_depth=5, n_estimators=750; total time=   0.9s\n",
      "[CV] END ......................max_depth=5, n_estimators=750; total time=   0.9s\n",
      "[CV] END ......................max_depth=5, n_estimators=750; total time=   0.9s\n",
      "[CV] END .....................max_depth=5, n_estimators=1000; total time=   1.2s\n",
      "[CV] END .....................max_depth=5, n_estimators=1000; total time=   1.6s\n",
      "[CV] END .....................max_depth=5, n_estimators=1000; total time=   1.2s\n",
      "[CV] END .....................max_depth=5, n_estimators=1000; total time=   1.2s\n",
      "[CV] END .....................max_depth=5, n_estimators=1000; total time=   1.2s\n",
      "[CV] END ......................max_depth=7, n_estimators=100; total time=   0.0s\n",
      "[CV] END ......................max_depth=7, n_estimators=100; total time=   0.0s\n",
      "[CV] END ......................max_depth=7, n_estimators=100; total time=   0.0s\n",
      "[CV] END ......................max_depth=7, n_estimators=100; total time=   0.0s\n",
      "[CV] END ......................max_depth=7, n_estimators=100; total time=   0.0s\n",
      "[CV] END ......................max_depth=7, n_estimators=200; total time=   0.2s\n",
      "[CV] END ......................max_depth=7, n_estimators=200; total time=   0.2s\n",
      "[CV] END ......................max_depth=7, n_estimators=200; total time=   0.2s\n",
      "[CV] END ......................max_depth=7, n_estimators=200; total time=   0.2s\n",
      "[CV] END ......................max_depth=7, n_estimators=200; total time=   0.2s\n",
      "[CV] END ......................max_depth=7, n_estimators=500; total time=   0.6s\n",
      "[CV] END ......................max_depth=7, n_estimators=500; total time=   0.6s\n",
      "[CV] END ......................max_depth=7, n_estimators=500; total time=   0.6s\n",
      "[CV] END ......................max_depth=7, n_estimators=500; total time=   0.6s\n",
      "[CV] END ......................max_depth=7, n_estimators=500; total time=   0.6s\n",
      "[CV] END ......................max_depth=7, n_estimators=750; total time=   0.9s\n",
      "[CV] END ......................max_depth=7, n_estimators=750; total time=   0.9s\n",
      "[CV] END ......................max_depth=7, n_estimators=750; total time=   0.9s\n",
      "[CV] END ......................max_depth=7, n_estimators=750; total time=   0.9s\n",
      "[CV] END ......................max_depth=7, n_estimators=750; total time=   0.9s\n",
      "[CV] END .....................max_depth=7, n_estimators=1000; total time=   1.2s\n",
      "[CV] END .....................max_depth=7, n_estimators=1000; total time=   1.2s\n",
      "[CV] END .....................max_depth=7, n_estimators=1000; total time=   1.2s\n",
      "[CV] END .....................max_depth=7, n_estimators=1000; total time=   1.2s\n",
      "[CV] END .....................max_depth=7, n_estimators=1000; total time=   1.2s\n",
      "[CV] END ......................max_depth=9, n_estimators=100; total time=   0.0s\n",
      "[CV] END ......................max_depth=9, n_estimators=100; total time=   0.0s\n",
      "[CV] END ......................max_depth=9, n_estimators=100; total time=   0.0s\n",
      "[CV] END ......................max_depth=9, n_estimators=100; total time=   0.0s\n",
      "[CV] END ......................max_depth=9, n_estimators=100; total time=   0.0s\n",
      "[CV] END ......................max_depth=9, n_estimators=200; total time=   0.2s\n",
      "[CV] END ......................max_depth=9, n_estimators=200; total time=   0.2s\n",
      "[CV] END ......................max_depth=9, n_estimators=200; total time=   0.2s\n",
      "[CV] END ......................max_depth=9, n_estimators=200; total time=   0.2s\n",
      "[CV] END ......................max_depth=9, n_estimators=200; total time=   0.2s\n",
      "[CV] END ......................max_depth=9, n_estimators=500; total time=   0.6s\n",
      "[CV] END ......................max_depth=9, n_estimators=500; total time=   0.6s\n",
      "[CV] END ......................max_depth=9, n_estimators=500; total time=   0.6s\n",
      "[CV] END ......................max_depth=9, n_estimators=500; total time=   0.6s\n",
      "[CV] END ......................max_depth=9, n_estimators=500; total time=   0.6s\n",
      "[CV] END ......................max_depth=9, n_estimators=750; total time=   0.9s\n",
      "[CV] END ......................max_depth=9, n_estimators=750; total time=   0.9s\n",
      "[CV] END ......................max_depth=9, n_estimators=750; total time=   0.9s\n",
      "[CV] END ......................max_depth=9, n_estimators=750; total time=   0.9s\n",
      "[CV] END ......................max_depth=9, n_estimators=750; total time=   0.9s\n",
      "[CV] END .....................max_depth=9, n_estimators=1000; total time=   1.3s\n",
      "[CV] END .....................max_depth=9, n_estimators=1000; total time=   1.3s\n",
      "[CV] END .....................max_depth=9, n_estimators=1000; total time=   1.3s\n",
      "[CV] END .....................max_depth=9, n_estimators=1000; total time=   1.3s\n"
     ]
    },
    {
     "name": "stderr",
     "output_type": "stream",
     "text": [
      "100%|████████████████████████████████████████████████████████████████████████████████████| 1/1 [01:08<00:00, 68.02s/it]"
     ]
    },
    {
     "name": "stdout",
     "output_type": "stream",
     "text": [
      "[CV] END .....................max_depth=9, n_estimators=1000; total time=   1.3s\n",
      "for model RandomForestClassifier() best estimator: RandomForestClassifier(max_depth=3) \n",
      "best score:\n",
      " 0.8298709677419355 \n",
      "best params:\n",
      " {'max_depth': 3, 'n_estimators': 100}\n"
     ]
    },
    {
     "name": "stderr",
     "output_type": "stream",
     "text": [
      "\n"
     ]
    }
   ],
   "source": [
    "from tqdm import tqdm\n",
    "models = {gnb : gnb_params, knn:knn_params,dtc:dtc_params, svc:svc_params,mlp:mlp_params,lr:lr_params ,rf:rf_params}\n",
    "scores = {}\n",
    "for i in tqdm(models):\n",
    "    grid=GridSearchCV(i,models[i], scoring= 'accuracy',verbose = 2 )\n",
    "    grid.fit(x_train, y_train)\n",
    "    print ('for model', i , 'best estimator:' , grid.best_estimator_ , '\\nbest score:\\n',grid.best_score_,'\\nbest params:\\n', \n",
    "           grid.best_params_)\n",
    "    scores[i]=  grid.cv_results_\n"
   ]
  },
  {
   "cell_type": "markdown",
   "id": "7fe05439",
   "metadata": {},
   "source": [
    "gnb : gnb_params, knn:knn_params,dtc:dtc_params, svc:svc_params,\\\n",
    "for model GaussianNB() best estimator: GaussianNB(var_smoothing=0.12328467394420659) \\\n",
    "best score:\\\n",
    " 0.7993290322580646 \\\n",
    "best params:\\\n",
    " {'var_smoothing': 0.12328467394420659}\\\n",
    " \n",
    "for model KNeighborsClassifier() best estimator: KNeighborsClassifier(leaf_size=4, metric='manhattan', n_neighbors=16) \\\n",
    "best score:\\\n",
    " 0.8073548387096775 \\\n",
    "best params:\\\n",
    " {'algorithm': 'auto', 'leaf_size': 4, 'metric': 'manhattan', 'n_neighbors': 16, 'weights': 'uniform'}\\\n",
    " \n",
    "for model DecisionTreeClassifier() best estimator: DecisionTreeClassifier(criterion='entropy', max_depth=5) \\\n",
    "best score:\\\n",
    " 0.8266709677419355 \\\n",
    "best params:\\\n",
    " {'criterion': 'entropy', 'max_depth': 5, 'splitter': 'best'}\\\n",
    " \n",
    " for model SVC() best estimator: SVC(decision_function_shape='ovo', degree=2, kernel='poly') \\\n",
    "best score:\\\n",
    " 0.8282967741935483 \\\n",
    "best params:\\\n",
    " {'decision_function_shape': 'ovo', 'degree': 2, 'gamma': 'scale', 'kernel': 'poly', 'shrinking': True}\\\n",
    " \n",
    " for model MLPClassifier() best estimator: MLPClassifier(alpha=0.1, hidden_layer_sizes=(7,), max_iter=5000, random_state=0) \\\n",
    "best score:\\\n",
    " 0.8314709677419355 \\\n",
    "best params:\\\n",
    " {'activation': 'relu', 'alpha': 0.1, 'hidden_layer_sizes': (7,), 'learning_rate': 'constant', 'max_iter': 5000, \\'random_state': 0, 'solver': 'adam'}\\\n",
    " \n",
    " for model LogisticRegression() best estimator: LogisticRegression(penalty='l1', solver='saga') \\\n",
    "best score:\\\n",
    " 0.8042322580645163 \\\n",
    "best params:\\\n",
    " {'penalty': 'l1', 'solver': 'saga'}\\"
   ]
  },
  {
   "cell_type": "markdown",
   "id": "25da2bd5",
   "metadata": {},
   "source": [
    "The best score came from Multi-layer Perceptron Classifier with a score of 0.83 , so we will move forward with this model\n",
    "## Training and testing with this model\n"
   ]
  },
  {
   "cell_type": "code",
   "execution_count": 10,
   "id": "59ea93a3",
   "metadata": {},
   "outputs": [],
   "source": [
    "#parmas = {'activation': 'relu', 'alpha': 0.1, 'hidden_layer_sizes': (7,), \n",
    "# 'learning_rate': 'constant', 'max_iter': 5000, 'random_state': 0, \n",
    "# 'solver': 'adam'}\n",
    "\n",
    "model =  MLPClassifier(activation = 'relu', alpha = 0.1 , hidden_layer_sizes= (7,),\n",
    "                      learning_rate = 'constant', max_iter= 5000 , random_state = 0 \n",
    "                      ).fit(x_train,y_train)"
   ]
  },
  {
   "cell_type": "markdown",
   "id": "3b428433",
   "metadata": {},
   "source": [
    "Taking a look at the accuracy of the model"
   ]
  },
  {
   "cell_type": "code",
   "execution_count": 13,
   "id": "8cc00a84",
   "metadata": {},
   "outputs": [
    {
     "data": {
      "text/plain": [
       "0.8134328358208955"
      ]
     },
     "execution_count": 13,
     "metadata": {},
     "output_type": "execute_result"
    }
   ],
   "source": [
    "model.score(x_test,y_test)\n",
    "y_pred = model.predict(x_test)\n",
    "from sklearn.metrics import accuracy_score\n",
    "accuracy_score(y_test, y_pred)\n"
   ]
  },
  {
   "cell_type": "markdown",
   "id": "3c70d8f9",
   "metadata": {},
   "source": [
    "It's lower than we want it to be but we will work with it"
   ]
  },
  {
   "cell_type": "markdown",
   "id": "71199714",
   "metadata": {},
   "source": [
    "## Applying model onto test set"
   ]
  },
  {
   "cell_type": "code",
   "execution_count": 20,
   "id": "271f2b85",
   "metadata": {},
   "outputs": [
    {
     "data": {
      "text/html": [
       "<div>\n",
       "<style scoped>\n",
       "    .dataframe tbody tr th:only-of-type {\n",
       "        vertical-align: middle;\n",
       "    }\n",
       "\n",
       "    .dataframe tbody tr th {\n",
       "        vertical-align: top;\n",
       "    }\n",
       "\n",
       "    .dataframe thead th {\n",
       "        text-align: right;\n",
       "    }\n",
       "</style>\n",
       "<table border=\"1\" class=\"dataframe\">\n",
       "  <thead>\n",
       "    <tr style=\"text-align: right;\">\n",
       "      <th></th>\n",
       "      <th>Sex</th>\n",
       "      <th>Age</th>\n",
       "      <th>SibSp</th>\n",
       "      <th>Parch</th>\n",
       "      <th>Fare</th>\n",
       "      <th>Pclass_2</th>\n",
       "      <th>Pclass_3</th>\n",
       "      <th>Embarked_Q</th>\n",
       "      <th>Embarked_S</th>\n",
       "    </tr>\n",
       "  </thead>\n",
       "  <tbody>\n",
       "    <tr>\n",
       "      <th>0</th>\n",
       "      <td>1</td>\n",
       "      <td>0.334993</td>\n",
       "      <td>-0.499470</td>\n",
       "      <td>-0.400248</td>\n",
       "      <td>-0.498407</td>\n",
       "      <td>0</td>\n",
       "      <td>1</td>\n",
       "      <td>1</td>\n",
       "      <td>0</td>\n",
       "    </tr>\n",
       "    <tr>\n",
       "      <th>1</th>\n",
       "      <td>0</td>\n",
       "      <td>1.325530</td>\n",
       "      <td>0.616992</td>\n",
       "      <td>-0.400248</td>\n",
       "      <td>-0.513274</td>\n",
       "      <td>0</td>\n",
       "      <td>1</td>\n",
       "      <td>0</td>\n",
       "      <td>1</td>\n",
       "    </tr>\n",
       "    <tr>\n",
       "      <th>2</th>\n",
       "      <td>1</td>\n",
       "      <td>2.514175</td>\n",
       "      <td>-0.499470</td>\n",
       "      <td>-0.400248</td>\n",
       "      <td>-0.465088</td>\n",
       "      <td>1</td>\n",
       "      <td>0</td>\n",
       "      <td>1</td>\n",
       "      <td>0</td>\n",
       "    </tr>\n",
       "    <tr>\n",
       "      <th>3</th>\n",
       "      <td>1</td>\n",
       "      <td>-0.259330</td>\n",
       "      <td>-0.499470</td>\n",
       "      <td>-0.400248</td>\n",
       "      <td>-0.483466</td>\n",
       "      <td>0</td>\n",
       "      <td>1</td>\n",
       "      <td>0</td>\n",
       "      <td>1</td>\n",
       "    </tr>\n",
       "    <tr>\n",
       "      <th>4</th>\n",
       "      <td>0</td>\n",
       "      <td>-0.655545</td>\n",
       "      <td>0.616992</td>\n",
       "      <td>0.619896</td>\n",
       "      <td>-0.418471</td>\n",
       "      <td>0</td>\n",
       "      <td>1</td>\n",
       "      <td>0</td>\n",
       "      <td>1</td>\n",
       "    </tr>\n",
       "  </tbody>\n",
       "</table>\n",
       "</div>"
      ],
      "text/plain": [
       "   Sex       Age     SibSp     Parch      Fare  Pclass_2  Pclass_3  \\\n",
       "0    1  0.334993 -0.499470 -0.400248 -0.498407         0         1   \n",
       "1    0  1.325530  0.616992 -0.400248 -0.513274         0         1   \n",
       "2    1  2.514175 -0.499470 -0.400248 -0.465088         1         0   \n",
       "3    1 -0.259330 -0.499470 -0.400248 -0.483466         0         1   \n",
       "4    0 -0.655545  0.616992  0.619896 -0.418471         0         1   \n",
       "\n",
       "   Embarked_Q  Embarked_S  \n",
       "0           1           0  \n",
       "1           0           1  \n",
       "2           1           0  \n",
       "3           0           1  \n",
       "4           0           1  "
      ]
     },
     "execution_count": 20,
     "metadata": {},
     "output_type": "execute_result"
    }
   ],
   "source": [
    "test = pd.read_csv('test_cleaned.csv',index_col=0)\n",
    "passengerid = test.pop('PassengerId')\n",
    "test.head()"
   ]
  },
  {
   "cell_type": "code",
   "execution_count": 48,
   "id": "fd64317a",
   "metadata": {},
   "outputs": [
    {
     "data": {
      "text/html": [
       "<div>\n",
       "<style scoped>\n",
       "    .dataframe tbody tr th:only-of-type {\n",
       "        vertical-align: middle;\n",
       "    }\n",
       "\n",
       "    .dataframe tbody tr th {\n",
       "        vertical-align: top;\n",
       "    }\n",
       "\n",
       "    .dataframe thead th {\n",
       "        text-align: right;\n",
       "    }\n",
       "</style>\n",
       "<table border=\"1\" class=\"dataframe\">\n",
       "  <thead>\n",
       "    <tr style=\"text-align: right;\">\n",
       "      <th></th>\n",
       "      <th>PassengerId</th>\n",
       "      <th>Survived</th>\n",
       "    </tr>\n",
       "  </thead>\n",
       "  <tbody>\n",
       "    <tr>\n",
       "      <th>0</th>\n",
       "      <td>892</td>\n",
       "      <td>0</td>\n",
       "    </tr>\n",
       "    <tr>\n",
       "      <th>1</th>\n",
       "      <td>893</td>\n",
       "      <td>0</td>\n",
       "    </tr>\n",
       "    <tr>\n",
       "      <th>2</th>\n",
       "      <td>894</td>\n",
       "      <td>0</td>\n",
       "    </tr>\n",
       "    <tr>\n",
       "      <th>3</th>\n",
       "      <td>895</td>\n",
       "      <td>0</td>\n",
       "    </tr>\n",
       "    <tr>\n",
       "      <th>4</th>\n",
       "      <td>896</td>\n",
       "      <td>0</td>\n",
       "    </tr>\n",
       "  </tbody>\n",
       "</table>\n",
       "</div>"
      ],
      "text/plain": [
       "   PassengerId  Survived\n",
       "0          892         0\n",
       "1          893         0\n",
       "2          894         0\n",
       "3          895         0\n",
       "4          896         0"
      ]
     },
     "execution_count": 48,
     "metadata": {},
     "output_type": "execute_result"
    }
   ],
   "source": [
    "test_pred = model.predict(test)\n",
    "predicted_df = pd.DataFrame(test_pred)\n",
    "predicted_df.rename(columns = {0:'Survived'}, \n",
    "            inplace = True)\n",
    "final_df = pd.concat([passengerid,predicted_df],axis=1)\n",
    "final_df.head()"
   ]
  },
  {
   "cell_type": "markdown",
   "id": "7f9c40f5",
   "metadata": {},
   "source": [
    "Convert and submit"
   ]
  },
  {
   "cell_type": "code",
   "execution_count": 50,
   "id": "de19a267",
   "metadata": {},
   "outputs": [],
   "source": [
    "final_df.to_csv('submission.csv',index=False)"
   ]
  }
 ],
 "metadata": {
  "kernelspec": {
   "display_name": "Python 3 (ipykernel)",
   "language": "python",
   "name": "python3"
  },
  "language_info": {
   "codemirror_mode": {
    "name": "ipython",
    "version": 3
   },
   "file_extension": ".py",
   "mimetype": "text/x-python",
   "name": "python",
   "nbconvert_exporter": "python",
   "pygments_lexer": "ipython3",
   "version": "3.7.11"
  }
 },
 "nbformat": 4,
 "nbformat_minor": 5
}
